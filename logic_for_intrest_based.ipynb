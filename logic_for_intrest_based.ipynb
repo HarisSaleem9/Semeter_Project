{
 "cells": [
  {
   "cell_type": "code",
   "execution_count": 1,
   "id": "a7a15870",
   "metadata": {},
   "outputs": [],
   "source": [
    "from sklearn.feature_extraction.text import TfidfVectorizer\n",
    "from sklearn.model_selection import train_test_split\n",
    "from sklearn.model_selection import StratifiedKFold\n",
    "from sklearn.pipeline import Pipeline\n",
    "from sklearn.naive_bayes import MultinomialNB\n",
    "from sklearn.metrics import classification_report\n",
    "folds = StratifiedKFold(n_splits=150)\n",
    "import pickle\n",
    "import numpy as np\n",
    "import pandas as pd\n",
    "from bs4 import BeautifulSoup\n",
    "from urllib.request import urlopen\n",
    "from urllib.error import HTTPError\n",
    "from urllib.error import URLError\n",
    "import re"
   ]
  },
  {
   "cell_type": "code",
   "execution_count": 2,
   "id": "c6fa0835",
   "metadata": {},
   "outputs": [],
   "source": [
    "def most_frequent(List):\n",
    "    counter = 0\n",
    "    num = List[0]\n",
    "     \n",
    "    for i in List:\n",
    "        curr_frequency = List.count(i)\n",
    "        if(curr_frequency> counter):\n",
    "            counter = curr_frequency\n",
    "            num = i\n",
    " \n",
    "    return num"
   ]
  },
  {
   "cell_type": "code",
   "execution_count": 3,
   "id": "e1dda39c",
   "metadata": {},
   "outputs": [],
   "source": [
    "def Find_For_You_links():\n",
    "    pr = []\n",
    "    filename = 'MultinomialNB1.sav'\n",
    "    model_load = pickle.load(open(filename,'rb'))\n",
    "    res = model_load.predict(listp)\n",
    "    pr.append(res)\n",
    "    pr2 = np.array(pr).tolist()\n",
    "    res = most_frequent(pr2)\n",
    "    result = most_frequent(res)\n",
    "    #print(result)\n",
    "    if result == '0':\n",
    "        #health\n",
    "        html = urlopen(\"https://www.cbsnews.com/healthwatch/fitness/\")\n",
    "        bsObj = BeautifulSoup(html)\n",
    "        links = []\n",
    "        for link in bsObj.find('div',{'class':'col-8'}).find_all('a'):\n",
    "            if 'href' in link.attrs and link['href'].startswith('https://www.cbsnews.com/news') :\n",
    "                links.append(link.attrs['href'])\n",
    "        return links\n",
    "    elif result == '2':\n",
    "        #Entertainemnt\n",
    "        html = urlopen(\"https://www.cbsnews.com/entertainment/\")\n",
    "        bsObj = BeautifulSoup(html)\n",
    "        links = []\n",
    "        for link in bsObj.find('div',{'class':'col-8'}).find_all('a'):\n",
    "            if 'href' in link.attrs and link['href'].startswith('https://www.cbsnews.com/news') :\n",
    "                links.append(link.attrs['href'])\n",
    "        return links\n",
    "    elif result == '1':\n",
    "        #politics\n",
    "        html = urlopen(\"https://www.cbsnews.com/politics/\")\n",
    "        bsObj = BeautifulSoup(html)\n",
    "        links = []\n",
    "        for link in bsObj.find('div',{'class':'col-8'}).find_all('a'):\n",
    "            if 'href' in link.attrs and link['href'].startswith('https://www.cbsnews.com/news/') :\n",
    "                links.append(link.attrs['href'])\n",
    "        return links\n",
    "    elif result == '3':\n",
    "        #travel\n",
    "        links=[]\n",
    "        html = urlopen(\"https://www.bbc.com/news/science-environment-56837908\")\n",
    "        bsObj = BeautifulSoup(html)\n",
    "        for link in bsObj.find('div',{'id':'topos-component'}).find_all('a',href=re.compile(\"-\\d{8}$\")):\n",
    "                if 'href' in link.attrs:\n",
    "                    if link['href'].startswith('https://www.bbc.co.uk/'):\n",
    "                        continue\n",
    "                    links.append('https://www.bbc.com'+link.attrs['href'])\n",
    "        return links\n",
    "    elif result == '4':\n",
    "        #Style$Beauty\n",
    "        html = urlopen(\"https://www.cbsnews.com/healthwatch/self-care-and-well-being/\")\n",
    "        bsObj = BeautifulSoup(html)\n",
    "        links = []\n",
    "        for link in bsObj.find('div',{'class':'col-8'}).find_all('a'):\n",
    "            if 'href' in link.attrs and link['href'].startswith('https://www.cbsnews.com/news') :\n",
    "                links.append(link.attrs['href'])\n",
    "        return links\n",
    "    elif result=='6' or result == '5':\n",
    "        #Food$Drinks\n",
    "        html = urlopen(\"https://www.cbsnews.com/healthwatch/diet-and-nutrition/\")\n",
    "        bsObj = BeautifulSoup(html)\n",
    "        links = []\n",
    "        for link in bsObj.find('div',{'class':'col-8'}).find_all('a'):\n",
    "            if 'href' in link.attrs and link['href'].startswith('https://www.cbsnews.com/news') :\n",
    "                links.append(link.attrs['href'])\n",
    "        return links\n",
    "    elif result == '7':\n",
    "        #World\n",
    "        html = urlopen(\"https://www.cbsnews.com/world/\")\n",
    "        bsObj = BeautifulSoup(html)\n",
    "        links = []\n",
    "        for link in bsObj.find('div',{'class':'col-8'}).find_all('a'):\n",
    "            if 'href' in link.attrs and link['href'].startswith('https://www.cbsnews.com/news/') :\n",
    "                links.append(link.attrs['href'])\n",
    "        return links\n",
    "    elif result == '8':\n",
    "        #buisness\n",
    "        links=[]\n",
    "        html = urlopen(\"https://www.bbc.com/news/business\")\n",
    "        bsObj = BeautifulSoup(html)\n",
    "        for link in bsObj.find('div',{'id':'topos-component'}).find_all('a',href=re.compile(\"-\\d{8}$\")):\n",
    "                if 'href' in link.attrs:\n",
    "                    if link['href'].startswith('https://www.bbc.co.uk/'):\n",
    "                        continue\n",
    "                    links.append('https://www.bbc.com'+link.attrs['href'])\n",
    "        return links\n",
    "    elif result == '9':\n",
    "        #sports\n",
    "        html = urlopen(\"https://edition.cnn.com/sport/\")\n",
    "        bsObj = BeautifulSoup(html)\n",
    "        links = []\n",
    "        for link in bsObj.find_all('div',{'class':'container__field-links'}):\n",
    "                z = link.find('a')\n",
    "                if 'href' in z.attrs:\n",
    "                    if z.attrs['href'].startswith('/videos/'):\n",
    "                        continue\n",
    "                    links.append(\"https://edition.cnn.com\"+z.attrs['href'])\n",
    "        return links\n",
    "    else :\n",
    "        html = urlopen(\"https://www.bbc.com/news\")\n",
    "        bsObj = BeautifulSoup(html)\n",
    "        links = []\n",
    "        for link in bsObj.find('div', {'id': 'news-top-stories-container'}).find_all('a',href=re.compile(\"-\\d{8}$\")):\n",
    "            if 'href' in link.attrs:\n",
    "                links.append(\"https://www.bbc.com\"+link.attrs['href'])\n",
    "        return links"
   ]
  },
  {
   "cell_type": "code",
   "execution_count": 8,
   "id": "e2678175",
   "metadata": {},
   "outputs": [],
   "source": [
    "#listp = [\"Apple\",\"Banana\",\"Cherry\",\"Orange\",\"Strawberry\",\"Mango\",\"Pineapple\",\"Watermelon\",\"Grape\",\"Lemon\",\"Blueberry\",\"Raspberry\",\"Kiwi\",\"Peach\",\"Pear\",\"Plum\",\"Avocado\",\"Coconut\",\"Papaya\",\"Fig\",\"Blackberry\",\"Guava\",\"Lime\",\"Apricot\",\"Cranberry\",\"Pomegranate\",\"Lychee\",\"Dragonfruit\",\"Cantaloupe\",\"Passionfruit\",\"Papaya\",\"Persimmon\",\"Tangerine\",\"Nectarine\",\"Olive\"]\n",
    "listp=[]\n",
    "def For_You_links():\n",
    "    linkss=[]\n",
    "    if len(listp)>0 and len(listp)<30:\n",
    "        #print('list > 0 and list < 30')\n",
    "        linkss = Find_For_You_links()\n",
    "        return linkss\n",
    "    elif len(listp) == 30 or len(listp) > 30:\n",
    "        #print('list > 30')\n",
    "        linkss = Find_For_You_links()\n",
    "        listp.clear()\n",
    "        return linkss\n",
    "    else :\n",
    "        #print(\"Else part\")\n",
    "        html = urlopen(\"https://www.bbc.com/news\")\n",
    "        bsObj = BeautifulSoup(html)\n",
    "        links = []\n",
    "        for link in bsObj.find('div', {'id': 'news-top-stories-container'}).find_all('a',href=re.compile(\"-\\d{8}$\")):\n",
    "            if 'href' in link.attrs:\n",
    "                linkss.append(\"https://www.bbc.com\"+link.attrs['href'])\n",
    "        return linkss"
   ]
  },
  {
   "cell_type": "code",
   "execution_count": 9,
   "id": "bf27ff46",
   "metadata": {},
   "outputs": [
    {
     "data": {
      "text/plain": [
       "['https://www.bbc.com/news/world-asia-65567781',\n",
       " 'https://www.bbc.com/news/world-asia-65567781',\n",
       " 'https://www.bbc.com/news/world-asia-65531574',\n",
       " 'https://www.bbc.com/news/world-asia-65491533',\n",
       " 'https://www.bbc.com/news/world-asia-65581169',\n",
       " 'https://www.bbc.com/news/world-asia-india-65580765',\n",
       " 'https://www.bbc.comhttps://www.bbc.co.uk/news/world-asia-65316057',\n",
       " 'https://www.bbc.com/news/world-asia-india-65559489',\n",
       " 'https://www.bbc.com/news/entertainment-arts-65585413',\n",
       " 'https://www.bbc.com/news/world-europe-65586701',\n",
       " 'https://www.bbc.com/news/world-europe-65581251',\n",
       " 'https://www.bbc.com/news/world-asia-65587321',\n",
       " 'https://www.bbc.com/news/world-asia-65579650',\n",
       " 'https://www.bbc.com/news/world-middle-east-65585950',\n",
       " 'https://www.bbc.com/news/world-asia-65579650',\n",
       " 'https://www.bbc.com/news/world-middle-east-65585950',\n",
       " 'https://www.bbc.com/news/world-europe-65559516',\n",
       " 'https://www.bbc.com/news/entertainment-arts-65586989',\n",
       " 'https://www.bbc.com/news/world-africa-65585746']"
      ]
     },
     "execution_count": 9,
     "metadata": {},
     "output_type": "execute_result"
    }
   ],
   "source": [
    "l = For_You_links()\n",
    "l"
   ]
  },
  {
   "cell_type": "code",
   "execution_count": 38,
   "id": "b64909d1",
   "metadata": {},
   "outputs": [
    {
     "name": "stdout",
     "output_type": "stream",
     "text": [
      "15\n"
     ]
    },
    {
     "data": {
      "text/plain": [
       "['https://www.cbsnews.com/news/wind-energy-powered-the-u-k-more-than-gas-this-year-for-the-first-time-ever/',\n",
       " 'https://www.cbsnews.com/news/pope-francis-italy-birth-rate-europe-demographic-winter/',\n",
       " 'https://www.cbsnews.com/news/el-nino-returns-2023/',\n",
       " 'https://www.cbsnews.com/news/pakistan-imran-khan-released-bail-islamabad-court-bars-arrest-two-weeks/',\n",
       " 'https://www.cbsnews.com/news/irina-tsybaneva-convicted-note-grave-putins-parents-raised-freak-and-killer/',\n",
       " 'https://www.cbsnews.com/news/bear-captured-killing-andrea-papi-innocent-activists-italy/',\n",
       " 'https://www.cbsnews.com/news/2-arrests-deadly-kidnapping-americans-mexico-matamoros-tamaulipas-border/',\n",
       " 'https://www.cbsnews.com/news/natalee-holloway-joran-van-der-sloot-extradition-what-to-know/',\n",
       " 'https://www.cbsnews.com/news/turkey-elections-president-recep-tayyip-erdogan-challengers/',\n",
       " 'https://www.cbsnews.com/news/israel-gaza-deaths-airstrikes-rocket-fire-egypt-truce/',\n",
       " 'https://www.cbsnews.com/news/italy-pasta-crisis-prices-inflation/',\n",
       " 'https://www.cbsnews.com/news/eurovision-song-contest-ukraine-tvorchi/',\n",
       " 'https://www.cbsnews.com/news/scientists-identify-new-species-of-demon-catshark-with-white-shiny-irises/',\n",
       " 'https://www.cbsnews.com/news/ukraine-russia-war-counteroffensive-looms-putin-airstrikes-front-lines/',\n",
       " 'https://www.cbsnews.com/news/plastic-eating-microbes-from-one-of-the-coldest-regions-on-earth-could-be-the-key-to-the-planets-waste-problem/']"
      ]
     },
     "execution_count": 38,
     "metadata": {},
     "output_type": "execute_result"
    }
   ],
   "source": [
    "#World\n",
    "html = urlopen(\"https://www.cbsnews.com/world/\")\n",
    "bsObj = BeautifulSoup(html)\n",
    "links = []\n",
    "for link in bsObj.find('div',{'class':'col-8'}).find_all('a'):\n",
    "    if 'href' in link.attrs and link['href'].startswith('https://www.cbsnews.com/news/') :\n",
    "        links.append(link.attrs['href'])\n",
    "print(len(links))\n",
    "links"
   ]
  },
  {
   "cell_type": "code",
   "execution_count": 28,
   "id": "d280d3d8",
   "metadata": {},
   "outputs": [
    {
     "name": "stdout",
     "output_type": "stream",
     "text": [
      "1\n"
     ]
    },
    {
     "data": {
      "text/plain": [
       "['Widespread loneliness in the U.S. poses health risks as deadly as smoking a dozen cigarettes daily, costing the health industry billions of dollars annually, the U.S. surgeon general said Tuesday in declaring the latest public health epidemic. About half of U.S. adults say they\\'ve experienced loneliness, Dr. Vivek Murthy said in an 81-page report from his office. \"We now know that loneliness is a common feeling that many people experience. It\\'s like hunger or thirst. It\\'s a feeling the body sends us when something we need for survival is missing,\" Murthy told The Associated Press in an interview. \"Millions of people in America are struggling in the shadows, and that\\'s not right. That\\'s why I issued this advisory to pull back the curtain on a struggle that too many people are experiencing.\"  The declaration is intended to raise awareness around loneliness but won\\'t unlock federal funding or programming devoted to combatting the issue.  Research shows that Americans, who have become less engaged with worship houses, community organizations and even their own family members in recent decades, have steadily reported an increase in feelings of loneliness. The number of single households has also doubled over the last 60 years.  But the crisis deeply worsened when COVID-19 spread, prompting schools and workplaces to shut their doors and sending millions of Americans to isolate at home away from relatives or friends.  People culled their friend groups during the coronavirus pandemic and reduced time spent with those friends, the surgeon general\\'s report finds. Americans spent about 20 minutes a day in person with friends in 2020, down from 60 minutes daily nearly two decades earlier.  The loneliness epidemic is hitting young people, ages 15 to 24, especially hard. The age group reported a 70% drop in time spent with friends during the same period.  Loneliness increases the risk of premature death by nearly 30%, with the report revealing that those with poor social relationships also had a greater risk of stroke and heart disease. Isolation also elevates a person\\'s likelihood for experiencing depression, anxiety and dementia.  The surgeon general is calling on workplaces, schools, technology companies, community organizations, parents and other people to make changes that will boost the country\\'s connectedness. He advises people to join community groups and put down their phones when they\\'re catching up with friends; employers to think carefully about their remote work policies; and health systems to provide training for doctors to recognize the health risks of loneliness.  Technology has rapidly exacerbated the loneliness problem, with one study cited in the report finding that people who used social media for two hours or more daily were more than twice as likely to report feeling socially isolated than those who were on such apps for less than 30 minutes a day.  Murthy said social media is driving the increase in loneliness in particular. His report suggests that technology companies roll out protections for children especially around their social media behavior.  \"There\\'s really no substitute for in-person interaction,\" Murthy said. \"As we shifted to use technology more and more for our communication, we lost out on a lot of that in-person interaction. How do we design technology that strengthens our relationships as opposed to weaken them?\"']"
      ]
     },
     "execution_count": 28,
     "metadata": {},
     "output_type": "execute_result"
    }
   ],
   "source": [
    "#Cbs paragraph\n",
    "html = urlopen(\"https://www.cbsnews.com/news/loneliness-surgeon-general-epidemic-covid/\")\n",
    "bsObj = BeautifulSoup(html)\n",
    "paragraph=[]\n",
    "paragraphs =[]\n",
    "Newspara=[]\n",
    "\n",
    "for para in bsObj.find('section',{'class':'content__body'}).find_all('p'):\n",
    "    paragraph.append(para.text)\n",
    "paragraphs = \" \".join(paragraph)\n",
    "Newspara.append(paragraphs)\n",
    "print(len(Newspara))\n",
    "Newspara"
   ]
  },
  {
   "cell_type": "code",
   "execution_count": 39,
   "id": "e1a48050",
   "metadata": {},
   "outputs": [
    {
     "name": "stdout",
     "output_type": "stream",
     "text": [
      "9\n"
     ]
    },
    {
     "data": {
      "text/plain": [
       "['https://www.cbsnews.com/news/antony-blinken-contempt-of-congress-michael-mccaul-vote-by-early-june/',\n",
       " 'https://www.cbsnews.com/news/cia-handling-of-sexual-assault-harassment-allegations/',\n",
       " 'https://www.cbsnews.com/news/unaccompanied-migrant-child-died-angel-eduardo-maradiaga-espinoza-us-custody-florida/',\n",
       " 'https://www.cbsnews.com/news/biden-announces-nominees-fill-out-federal-reserve/',\n",
       " 'https://www.cbsnews.com/news/judge-agrees-postpone-trump-deposition-in-fbi-lawsuit/',\n",
       " 'https://www.cbsnews.com/news/book-excerpt-the-joy-of-politics-by-senator-amy-klobuchar/',\n",
       " 'https://www.cbsnews.com/news/debt-ceiling-abigail-spanberger-congress-pay-withhold/',\n",
       " 'https://www.cbsnews.com/news/texas-house-gun-control-bill-misses-deadline-for-floor-vote/',\n",
       " 'https://www.cbsnews.com/news/arizona-governor-katie-hobbs-takeout/']"
      ]
     },
     "execution_count": 39,
     "metadata": {},
     "output_type": "execute_result"
    }
   ],
   "source": [
    "#Politics\n",
    "html = urlopen(\"https://www.cbsnews.com/politics/\")\n",
    "bsObj = BeautifulSoup(html)\n",
    "#Finding links\n",
    "links = []\n",
    "for link in bsObj.find('div',{'class':'col-8'}).find_all('a'):\n",
    "    if 'href' in link.attrs and link['href'].startswith('https://www.cbsnews.com/news/') :\n",
    "        links.append(link.attrs['href'])\n",
    "print(len(links))\n",
    "links"
   ]
  },
  {
   "cell_type": "code",
   "execution_count": 42,
   "id": "5e46b2e5",
   "metadata": {},
   "outputs": [
    {
     "name": "stdout",
     "output_type": "stream",
     "text": [
      "12\n"
     ]
    },
    {
     "data": {
      "text/plain": [
       "['https://www.cbsnews.com/news/michael-j-fox-injuries-parkinsons-disease/',\n",
       " 'https://www.cbsnews.com/news/jamie-foxx-health-daughter-corrine-foxx-condition-update/',\n",
       " 'https://www.cbsnews.com/news/beyonce-renaissance-tour-taylor-swift-eras-top-grossing/',\n",
       " 'https://www.cbsnews.com/news/kyle-world-record-gathering-kyles-fair-texas-largest-same-name-guiness/',\n",
       " 'https://www.cbsnews.com/news/christina-applegate-multiple-sclerosis-may-give-up-acting-on-camera-due-to-challenges-of-ms/',\n",
       " 'https://www.cbsnews.com/news/debbie-gibson-encore-tour-career/',\n",
       " 'https://www.cbsnews.com/news/cisco-teams-up-with-the-nfl-to-defend-super-bowl-paid-content/',\n",
       " 'https://www.cbsnews.com/news/book-audio-excerpt-honey-baby-mine-by-laura-dern-diane-ladd/',\n",
       " 'https://www.cbsnews.com/news/rob-lowe-sober-33-years/',\n",
       " 'https://www.cbsnews.com/news/robert-de-niro-7th-child-name-baby-photo-cbs-mornings/',\n",
       " 'https://www.cbsnews.com/news/freaky-friday-sequel-lindsay-lohan-jamie-lee-curtis-20-years-later/',\n",
       " 'https://www.cbsnews.com/news/chrishell-stause-g-flip-are-married-selling-sunset-instagram-post-wedding/']"
      ]
     },
     "execution_count": 42,
     "metadata": {},
     "output_type": "execute_result"
    }
   ],
   "source": [
    "#Entertainment\n",
    "html = urlopen(\"https://www.cbsnews.com/entertainment/\")\n",
    "bsObj = BeautifulSoup(html)\n",
    "#Finding links\n",
    "links = []\n",
    "for link in bsObj.find('div',{'class':'col-8'}).find_all('a'):\n",
    "    if 'href' in link.attrs and link['href'].startswith('https://www.cbsnews.com/news') :\n",
    "        links.append(link.attrs['href'])\n",
    "print(len(links))\n",
    "links"
   ]
  },
  {
   "cell_type": "code",
   "execution_count": 43,
   "id": "6bde913e",
   "metadata": {},
   "outputs": [
    {
     "name": "stdout",
     "output_type": "stream",
     "text": [
      "10\n"
     ]
    },
    {
     "data": {
      "text/plain": [
       "['https://www.cbsnews.com/news/how-to-start-working-out-tips/',\n",
       " 'https://www.cbsnews.com/news/walking-health-sitting-research/',\n",
       " 'https://www.cbsnews.com/news/hot-girl-walk-viral-fitness-trend-explained-tips/',\n",
       " 'https://www.cbsnews.com/news/exercise-health-benefits-news-walk-11-minutes-daily-lower-risk-stroke-heart-disease-cancer/',\n",
       " 'https://www.cbsnews.com/news/self-tracking-your-health-data-wearables/',\n",
       " 'https://www.cbsnews.com/news/peloton-robin-arzon-fitness/',\n",
       " 'https://www.cbsnews.com/news/want-to-live-longer-women-body-size-exercise-study-shows/',\n",
       " 'https://www.cbsnews.com/news/5-habits-that-could-help-you-live-10-years-longer/',\n",
       " 'https://www.cbsnews.com/news/what-to-eat-before-workout-foods-to-avoid/',\n",
       " 'https://www.cbsnews.com/news/get-the-most-out-of-your-workout-in-the-least-amount-of-time/']"
      ]
     },
     "execution_count": 43,
     "metadata": {},
     "output_type": "execute_result"
    }
   ],
   "source": [
    "#HealthFitness\n",
    "html = urlopen(\"https://www.cbsnews.com/healthwatch/fitness/\")\n",
    "bsObj = BeautifulSoup(html)\n",
    "links = []\n",
    "for link in bsObj.find('div',{'class':'col-8'}).find_all('a'):\n",
    "    if 'href' in link.attrs and link['href'].startswith('https://www.cbsnews.com/news') :\n",
    "        links.append(link.attrs['href'])\n",
    "print(len(links))\n",
    "links"
   ]
  },
  {
   "cell_type": "code",
   "execution_count": 44,
   "id": "63164a82",
   "metadata": {},
   "outputs": [
    {
     "name": "stdout",
     "output_type": "stream",
     "text": [
      "10\n"
     ]
    },
    {
     "data": {
      "text/plain": [
       "['https://www.cbsnews.com/news/ambition-sizing-dangerous-weight-loss-practice/',\n",
       " 'https://www.cbsnews.com/news/heart-healthy-diets-mediterranean-keto-paleo-american-heart-association/',\n",
       " 'https://www.cbsnews.com/news/gut-brain-connection-what-foods-to-eat-nutritional-psychiatrist/',\n",
       " 'https://www.cbsnews.com/news/trigger-foods-to-avoid-with-ibs-experts/',\n",
       " 'https://www.cbsnews.com/news/eat-healthy-for-cheap/',\n",
       " 'https://www.cbsnews.com/news/milk-nutrition-plant-based-options/',\n",
       " 'https://www.cbsnews.com/news/food-additives-health-risks-banned-california/',\n",
       " 'https://www.cbsnews.com/news/gut-health-diet-food-groups/',\n",
       " 'https://www.cbsnews.com/news/how-to-check-gut-health/',\n",
       " 'https://www.cbsnews.com/news/mediterranean-diet-women-heart-disease/']"
      ]
     },
     "execution_count": 44,
     "metadata": {},
     "output_type": "execute_result"
    }
   ],
   "source": [
    "#Food$Drink\n",
    "html = urlopen(\"https://www.cbsnews.com/healthwatch/diet-and-nutrition/\")\n",
    "bsObj = BeautifulSoup(html)\n",
    "links = []\n",
    "for link in bsObj.find('div',{'class':'col-8'}).find_all('a'):\n",
    "    if 'href' in link.attrs and link['href'].startswith('https://www.cbsnews.com/news') :\n",
    "        links.append(link.attrs['href'])\n",
    "print(len(links))\n",
    "links"
   ]
  },
  {
   "cell_type": "code",
   "execution_count": 45,
   "id": "91aec556",
   "metadata": {},
   "outputs": [
    {
     "name": "stdout",
     "output_type": "stream",
     "text": [
      "10\n"
     ]
    },
    {
     "data": {
      "text/plain": [
       "['https://www.cbsnews.com/news/youth-mental-health-crisis-may-be-improving-er-data-cdc/',\n",
       " 'https://www.cbsnews.com/news/work-from-home-how-to-disconnect/',\n",
       " 'https://www.cbsnews.com/news/children-worrying-survey-what-parents-can-do-mental-health/',\n",
       " 'https://www.cbsnews.com/news/loneliness-surgeon-general-epidemic-covid/',\n",
       " 'https://www.cbsnews.com/news/swedish-death-cleaning-what-is-it/',\n",
       " 'https://www.cbsnews.com/news/how-to-make-friends-as-an-adult-expert-tips/',\n",
       " 'https://www.cbsnews.com/news/what-teens-need-amid-mental-health-crisis/',\n",
       " 'https://www.cbsnews.com/news/ariana-grande-body-comments-experts/',\n",
       " 'https://www.cbsnews.com/news/pets-mental-health-sleep/',\n",
       " 'https://www.cbsnews.com/news/stress-relieving-tips-relax-chill-out/']"
      ]
     },
     "execution_count": 45,
     "metadata": {},
     "output_type": "execute_result"
    }
   ],
   "source": [
    "#Style$Beauty\n",
    "html = urlopen(\"https://www.cbsnews.com/healthwatch/self-care-and-well-being/\")\n",
    "bsObj = BeautifulSoup(html)\n",
    "links = []\n",
    "for link in bsObj.find('div',{'class':'col-8'}).find_all('a'):\n",
    "    if 'href' in link.attrs and link['href'].startswith('https://www.cbsnews.com/news') :\n",
    "        links.append(link.attrs['href'])\n",
    "print(len(links))\n",
    "links"
   ]
  },
  {
   "cell_type": "code",
   "execution_count": 70,
   "id": "f49f7fdf",
   "metadata": {},
   "outputs": [
    {
     "name": "stdout",
     "output_type": "stream",
     "text": [
      "23\n"
     ]
    },
    {
     "data": {
      "text/plain": [
       "['https://www.bbc.com/news/business-65574826',\n",
       " 'https://www.bbc.com/news/business-65562289',\n",
       " 'https://www.bbc.com/news/business-65562289',\n",
       " 'https://www.bbc.com/news/business-65574826',\n",
       " 'https://www.bbc.com/news/business-65562289',\n",
       " 'https://www.bbc.com/news/business-65568967',\n",
       " 'https://www.bbc.com/news/business-65562888',\n",
       " 'https://www.bbc.com/news/business-65572229',\n",
       " 'https://www.bbc.com/news/business-65563993',\n",
       " 'https://www.bbc.com/news/world-australia-65541621',\n",
       " 'https://www.bbc.com/news/business-65574826',\n",
       " 'https://www.bbc.com/news/business-65562289',\n",
       " 'https://www.bbc.com/news/business-65562289',\n",
       " 'https://www.bbc.com/news/business-65568967',\n",
       " 'https://www.bbc.com/news/business-65562888',\n",
       " 'https://www.bbc.com/news/business-65572229',\n",
       " 'https://www.bbc.com/news/business-65563993',\n",
       " 'https://www.bbc.com/news/world-australia-65541621',\n",
       " 'https://www.bbc.com/news/business-65568967',\n",
       " 'https://www.bbc.com/news/business-65562888',\n",
       " 'https://www.bbc.com/news/business-65572229',\n",
       " 'https://www.bbc.com/news/business-65563993',\n",
       " 'https://www.bbc.com/news/world-australia-65541621']"
      ]
     },
     "execution_count": 70,
     "metadata": {},
     "output_type": "execute_result"
    }
   ],
   "source": [
    "#Buisness\n",
    "links=[]\n",
    "html = urlopen(\"https://www.bbc.com/news/business\")\n",
    "bsObj = BeautifulSoup(html)\n",
    "for link in bsObj.find('div',{'id':'topos-component'}).find_all('a',href=re.compile(\"-\\d{8}$\")):\n",
    "        if 'href' in link.attrs:\n",
    "            if link['href'].startswith('https://www.bbc.co.uk/'):\n",
    "                continue\n",
    "            links.append('https://www.bbc.com'+link.attrs['href'])\n",
    "print(len(links))\n",
    "links"
   ]
  },
  {
   "cell_type": "code",
   "execution_count": 16,
   "id": "a5cce6e4",
   "metadata": {},
   "outputs": [
    {
     "name": "stdout",
     "output_type": "stream",
     "text": [
      "13\n"
     ]
    },
    {
     "data": {
      "text/plain": [
       "['https://edition.cnn.com/2023/05/13/sport/lebron-james-la-lakers-golden-state-warriors-spt-intl/index.html',\n",
       " 'https://edition.cnn.com/2023/05/13/football/christian-eriksen-cardiac-arrest-comeback-spt-intl/index.html',\n",
       " 'https://edition.cnn.com/2023/05/09/sport/joel-embiid-journey-nba-mvp-2023-spt-intl/index.html',\n",
       " 'https://edition.cnn.com/2023/05/11/sport/russell-cook-africa-run-marathons-spt-intl/index.html',\n",
       " 'https://edition.cnn.com/2023/05/05/football/napoli-serie-a-title-win-2022-23-italy-spt-intl/index.html',\n",
       " 'https://edition.cnn.com/2023/05/04/football/trans-soccer-team-spt-intl/index.html',\n",
       " 'https://edition.cnn.com/2023/05/02/sport/dane-jackson-kayak-santo-domingo-gorge-mexico-spt-intl/index.html',\n",
       " 'https://edition.cnn.com/2023/04/20/golf/matt-fitzpatrick-brother-zurich-classic-spt-intl/index.html',\n",
       " 'https://edition.cnn.com/2023/05/05/football/lionel-messi-apologizes-to-psg-spt-intl/index.html',\n",
       " 'https://edition.cnn.com/2023/05/08/tennis/andy-murray-beats-tommy-paul-aix-en-provence-spt-intl/index.html',\n",
       " 'https://edition.cnn.com/2023/05/04/sport/alabama-baseball-coach-fired-betting-investigation/index.html',\n",
       " 'https://edition.cnn.com/2022/11/20/football/gallery/world-cup-2022/index.html',\n",
       " 'https://edition.cnn.com/2022/11/17/football/qatar-2022-world-cup-migrant-workers-human-rights-spt-intl/index.html']"
      ]
     },
     "execution_count": 16,
     "metadata": {},
     "output_type": "execute_result"
    }
   ],
   "source": [
    "#Sports\n",
    "html = urlopen(\"https://edition.cnn.com/sport\")\n",
    "bsObj = BeautifulSoup(html)\n",
    "#Finding links\n",
    "links = []\n",
    "for link in bsObj.find_all('div',{'class':'container__field-links'}):\n",
    "        z = link.find('a')\n",
    "        if 'href' in z.attrs:\n",
    "            if z.attrs['href'].startswith('/videos/'):\n",
    "                continue\n",
    "            links.append(\"https://edition.cnn.com\"+z.attrs['href'])\n",
    "print(len(links))\n",
    "links"
   ]
  },
  {
   "cell_type": "code",
   "execution_count": 34,
   "id": "2de6e203",
   "metadata": {},
   "outputs": [
    {
     "ename": "AttributeError",
     "evalue": "'NoneType' object has no attribute 'find_all'",
     "output_type": "error",
     "traceback": [
      "\u001b[1;31m---------------------------------------------------------------------------\u001b[0m",
      "\u001b[1;31mAttributeError\u001b[0m                            Traceback (most recent call last)",
      "Input \u001b[1;32mIn [34]\u001b[0m, in \u001b[0;36m<cell line: 11>\u001b[1;34m()\u001b[0m\n\u001b[0;32m     22\u001b[0m html \u001b[38;5;241m=\u001b[39m urlopen(get_url)\n\u001b[0;32m     23\u001b[0m bsObj \u001b[38;5;241m=\u001b[39m BeautifulSoup(html)\n\u001b[1;32m---> 24\u001b[0m \u001b[38;5;28;01mfor\u001b[39;00m para \u001b[38;5;129;01min\u001b[39;00m \u001b[43mbsObj\u001b[49m\u001b[38;5;241;43m.\u001b[39;49m\u001b[43mfind\u001b[49m\u001b[43m(\u001b[49m\u001b[38;5;124;43m'\u001b[39;49m\u001b[38;5;124;43mdiv\u001b[39;49m\u001b[38;5;124;43m'\u001b[39;49m\u001b[43m,\u001b[49m\u001b[43m{\u001b[49m\u001b[38;5;124;43m'\u001b[39;49m\u001b[38;5;124;43mclass\u001b[39;49m\u001b[38;5;124;43m'\u001b[39;49m\u001b[43m:\u001b[49m\u001b[38;5;124;43m'\u001b[39;49m\u001b[38;5;124;43marticle__content\u001b[39;49m\u001b[38;5;124;43m'\u001b[39;49m\u001b[43m}\u001b[49m\u001b[43m)\u001b[49m\u001b[38;5;241;43m.\u001b[39;49m\u001b[43mfind_all\u001b[49m(\u001b[38;5;124m'\u001b[39m\u001b[38;5;124mp\u001b[39m\u001b[38;5;124m'\u001b[39m):\n\u001b[0;32m     25\u001b[0m     paragraph\u001b[38;5;241m.\u001b[39mappend(para\u001b[38;5;241m.\u001b[39mtext)\n\u001b[0;32m     26\u001b[0m paragraphs \u001b[38;5;241m=\u001b[39m \u001b[38;5;124m\"\u001b[39m\u001b[38;5;124m \u001b[39m\u001b[38;5;124m\"\u001b[39m\u001b[38;5;241m.\u001b[39mjoin(paragraph)\n",
      "\u001b[1;31mAttributeError\u001b[0m: 'NoneType' object has no attribute 'find_all'"
     ]
    }
   ],
   "source": [
    "def find_match(url):\n",
    "    expression = re.compile('\\/live-news')\n",
    "    match = expression.search(url)\n",
    "    if match:\n",
    "        return 1\n",
    "    else :\n",
    "        return 0\n",
    "    \n",
    "get_url = \"https://edition.cnn.com/videos/sports/2023/05/09/exp-lionel-messi-laureus-intv-050908aeg1-cnni-sport.cnn\"\n",
    "ma = find_match(get_url)\n",
    "if ma == 1:\n",
    "    #print(\"match found\") \n",
    "    html = urlopen(get_url)\n",
    "    bsObj = BeautifulSoup(html)\n",
    "    for para in bsObj.find('ul',{'class':'cnn_rich_text'}).find_all('li'):\n",
    "        paragraph.append(para.text)\n",
    "    paragraphs = \" \".join(paragraph)\n",
    "    Newspara.append(paragraphs) \n",
    "            \n",
    "else :\n",
    "    #print(\"match not found\")\n",
    "    html = urlopen(get_url)\n",
    "    bsObj = BeautifulSoup(html)\n",
    "    for para in bsObj.find('div',{'class':'article__content'}).find_all('p'):\n",
    "        paragraph.append(para.text)\n",
    "    paragraphs = \" \".join(paragraph)\n",
    "    Newspara.append(paragraphs)\n",
    "print(\"CNN\")\n",
    "    "
   ]
  },
  {
   "cell_type": "code",
   "execution_count": 75,
   "id": "6e55816e",
   "metadata": {},
   "outputs": [
    {
     "name": "stdout",
     "output_type": "stream",
     "text": [
      "21\n"
     ]
    },
    {
     "data": {
      "text/plain": [
       "['https://www.bbc.com/news/business-65317369',\n",
       " 'https://www.bbc.com/news/business-65317369',\n",
       " 'https://www.bbc.com/news/world-australia-65541621',\n",
       " 'https://www.bbc.com/news/science-environment-65557469',\n",
       " 'https://www.bbc.com/news/science-environment-65500339',\n",
       " 'https://www.bbc.com/news/world-europe-65494306',\n",
       " 'https://www.bbc.com/news/business-65261147',\n",
       " 'https://www.bbc.com/news/science-environment-65460128',\n",
       " 'https://www.bbc.com/news/business-65317369',\n",
       " 'https://www.bbc.com/news/world-australia-65541621',\n",
       " 'https://www.bbc.com/news/science-environment-65557469',\n",
       " 'https://www.bbc.com/news/science-environment-65500339',\n",
       " 'https://www.bbc.com/news/world-europe-65494306',\n",
       " 'https://www.bbc.com/news/business-65261147',\n",
       " 'https://www.bbc.com/news/science-environment-65460128',\n",
       " 'https://www.bbc.com/news/world-australia-65541621',\n",
       " 'https://www.bbc.com/news/science-environment-65557469',\n",
       " 'https://www.bbc.com/news/science-environment-65500339',\n",
       " 'https://www.bbc.com/news/world-europe-65494306',\n",
       " 'https://www.bbc.com/news/business-65261147',\n",
       " 'https://www.bbc.com/news/science-environment-65460128']"
      ]
     },
     "execution_count": 75,
     "metadata": {},
     "output_type": "execute_result"
    }
   ],
   "source": [
    "#travel\n",
    "links=[]\n",
    "html = urlopen(\"https://www.bbc.com/news/science-environment-56837908\")\n",
    "bsObj = BeautifulSoup(html)\n",
    "for link in bsObj.find('div',{'id':'topos-component'}).find_all('a',href=re.compile(\"-\\d{8}$\")):\n",
    "        if 'href' in link.attrs:\n",
    "            if link['href'].startswith('https://www.bbc.co.uk/'):\n",
    "                continue\n",
    "            links.append('https://www.bbc.com'+link.attrs['href'])\n",
    "print(len(links))\n",
    "links"
   ]
  },
  {
   "cell_type": "code",
   "execution_count": 81,
   "id": "c68d1093",
   "metadata": {},
   "outputs": [
    {
     "name": "stdout",
     "output_type": "stream",
     "text": [
      "17\n"
     ]
    }
   ],
   "source": [
    "#else\n",
    "html = urlopen(\"https://www.bbc.com/news\")\n",
    "bsObj = BeautifulSoup(html)\n",
    "links = []\n",
    "for link in bsObj.find('div', {'id': 'news-top-stories-container'}).find_all('a',href=re.compile(\"-\\d{8}$\")):\n",
    "    if 'href' in link.attrs:\n",
    "        links.append(\"https://www.bbc.com\"+link.attrs['href'])\n",
    "print(len(links))"
   ]
  },
  {
   "cell_type": "code",
   "execution_count": 17,
   "id": "63197f4b",
   "metadata": {},
   "outputs": [
    {
     "name": "stdout",
     "output_type": "stream",
     "text": [
      "<class 'str'>\n",
      "['https://www.bbc.com/news/world-asia-65581169', 'https://www.bbc.com/news/world-asia-65581169', 'https://www.bbc.com/news/world-asia-65571796', 'https://www.bbc.com/news/world-asia-65579500', 'https://www.bbc.com/news/world-asia-india-65580765', 'https://www.bbc.com/news/world-asia-65541769', 'https://www.bbc.com/news/world-asia-65579650', 'https://www.bbc.com/news/world-europe-65568647', 'https://www.bbc.com/news/world-africa-65576671', 'https://www.bbc.com/news/world-africa-65572154', 'https://www.bbc.com/news/world-asia-65531574', 'https://www.bbc.com/news/world-asia-china-65556828', 'https://www.bbc.com/news/world-asia-65531574', 'https://www.bbc.com/news/world-asia-china-65556828', 'https://www.bbc.com/news/entertainment-arts-65569009', 'https://www.bbc.com/news/world-australia-65541621', 'https://www.bbc.com/news/world-europe-65567143']\n"
     ]
    }
   ],
   "source": [
    "listp = ['Title 42 expiration will be \"tough\" but plan \"will succeed,\" says Homeland Security secretary','MLB home run celebrations: 10 more elaborate spectacles we want to see in the dugout','MLB home run celebrations: 10 more elaborate spectacles we want to see in the dugout','MLB home run celebrations: 10 more elaborate spectacles we want to see in the dugout','MLB home run celebrations: 10 more elaborate spectacles we want to see in the dugout']\n",
    "pr = []\n",
    "filename = 'MultinomialNB1.sav'\n",
    "model_load = pickle.load(open(filename,'rb'))\n",
    "res = model_load.predict(listp)\n",
    "pr.append(res)\n",
    "pr2 = np.array(pr).tolist()\n",
    "res = most_frequent(pr2)\n",
    "result = most_frequent(res)\n",
    "print(type(result))\n",
    "if result == 0:\n",
    "    #health\n",
    "    html = urlopen(\"https://www.cbsnews.com/healthwatch/fitness/\")\n",
    "    bsObj = BeautifulSoup(html)\n",
    "    links = []\n",
    "    for link in bsObj.find('div',{'class':'col-8'}).find_all('a'):\n",
    "        if 'href' in link.attrs and link['href'].startswith('https://www.cbsnews.com/news') :\n",
    "            links.append(link.attrs['href'])\n",
    "    print(len(links))\n",
    "    links\n",
    "elif result == 2:\n",
    "    #Entertainemnt\n",
    "    html = urlopen(\"https://www.cbsnews.com/entertainment/\")\n",
    "    bsObj = BeautifulSoup(html)\n",
    "    links = []\n",
    "    for link in bsObj.find('div',{'class':'col-8'}).find_all('a'):\n",
    "        if 'href' in link.attrs and link['href'].startswith('https://www.cbsnews.com/news') :\n",
    "            links.append(link.attrs['href'])\n",
    "    print(len(links))\n",
    "    links\n",
    "elif result == 1:\n",
    "    #politics\n",
    "    html = urlopen(\"https://www.cbsnews.com/politics/\")\n",
    "    bsObj = BeautifulSoup(html)\n",
    "    links = []\n",
    "    for link in bsObj.find('div',{'class':'col-8'}).find_all('a'):\n",
    "        if 'href' in link.attrs and link['href'].startswith('https://www.cbsnews.com/news/') :\n",
    "            links.append(link.attrs['href'])\n",
    "    print(len(links))\n",
    "    links\n",
    "elif result == 3:\n",
    "    #travel\n",
    "    links=[]\n",
    "    html = urlopen(\"https://www.bbc.com/news/science-environment-56837908\")\n",
    "    bsObj = BeautifulSoup(html)\n",
    "    for link in bsObj.find('div',{'id':'topos-component'}).find_all('a',href=re.compile(\"-\\d{8}$\")):\n",
    "            if 'href' in link.attrs:\n",
    "                if link['href'].startswith('https://www.bbc.co.uk/'):\n",
    "                    continue\n",
    "                links.append('https://www.bbc.com'+link.attrs['href'])\n",
    "    print(len(links))\n",
    "    links\n",
    "elif result == 4:\n",
    "    #Style$Beauty\n",
    "    html = urlopen(\"https://www.cbsnews.com/healthwatch/self-care-and-well-being/\")\n",
    "    bsObj = BeautifulSoup(html)\n",
    "    links = []\n",
    "    for link in bsObj.find('div',{'class':'col-8'}).find_all('a'):\n",
    "        if 'href' in link.attrs and link['href'].startswith('https://www.cbsnews.com/news') :\n",
    "            links.append(link.attrs['href'])\n",
    "    print(len(links))\n",
    "    links\n",
    "elif result==6 or result == 5:\n",
    "    #Food$Drinks\n",
    "    html = urlopen(\"https://www.cbsnews.com/healthwatch/diet-and-nutrition/\")\n",
    "    bsObj = BeautifulSoup(html)\n",
    "    links = []\n",
    "    for link in bsObj.find('div',{'class':'col-8'}).find_all('a'):\n",
    "        if 'href' in link.attrs and link['href'].startswith('https://www.cbsnews.com/news') :\n",
    "            links.append(link.attrs['href'])\n",
    "    print(len(links))\n",
    "    links\n",
    "elif result == 7:\n",
    "    #World\n",
    "    html = urlopen(\"https://www.cbsnews.com/world/\")\n",
    "    bsObj = BeautifulSoup(html)\n",
    "    links = []\n",
    "    for link in bsObj.find('div',{'class':'col-8'}).find_all('a'):\n",
    "        if 'href' in link.attrs and link['href'].startswith('https://www.cbsnews.com/news/') :\n",
    "            links.append(link.attrs['href'])\n",
    "    print(len(links))\n",
    "    links\n",
    "elif result == 8:\n",
    "    #buisness\n",
    "    links=[]\n",
    "    html = urlopen(\"https://www.bbc.com/news/business\")\n",
    "    bsObj = BeautifulSoup(html)\n",
    "    for link in bsObj.find('div',{'id':'topos-component'}).find_all('a',href=re.compile(\"-\\d{8}$\")):\n",
    "            if 'href' in link.attrs:\n",
    "                if link['href'].startswith('https://www.bbc.co.uk/'):\n",
    "                    continue\n",
    "                links.append('https://www.bbc.com'+link.attrs['href'])\n",
    "    print(len(links))\n",
    "    links\n",
    "elif result == 9:\n",
    "    #sports\n",
    "    html = urlopen(\"https://edition.cnn.com/sport\")\n",
    "    bsObj = BeautifulSoup(html)\n",
    "    #Finding links\n",
    "    links = []\n",
    "    for link in bsObj.find_all('div',{'class':'container__field-links'}):\n",
    "            z = link.find('a')\n",
    "            if 'href' in z.attrs:\n",
    "                links.append(\"https://edition.cnn.com\"+z.attrs['href'])\n",
    "    print(len(links))\n",
    "    links\n",
    "else :\n",
    "    html = urlopen(\"https://www.bbc.com/news\")\n",
    "    bsObj = BeautifulSoup(html)\n",
    "    links = []\n",
    "    for link in bsObj.find('div', {'id': 'news-top-stories-container'}).find_all('a',href=re.compile(\"-\\d{8}$\")):\n",
    "        if 'href' in link.attrs:\n",
    "            links.append(\"https://www.bbc.com\"+link.attrs['href'])\n",
    "    print(links)"
   ]
  }
 ],
 "metadata": {
  "kernelspec": {
   "display_name": "Python 3 (ipykernel)",
   "language": "python",
   "name": "python3"
  },
  "language_info": {
   "codemirror_mode": {
    "name": "ipython",
    "version": 3
   },
   "file_extension": ".py",
   "mimetype": "text/x-python",
   "name": "python",
   "nbconvert_exporter": "python",
   "pygments_lexer": "ipython3",
   "version": "3.9.12"
  }
 },
 "nbformat": 4,
 "nbformat_minor": 5
}
